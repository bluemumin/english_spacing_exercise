{
 "cells": [
  {
   "cell_type": "markdown",
   "metadata": {},
   "source": [
    "# 0 . kaggle 게시 링크 \n",
    "\n",
    "https://www.kaggle.com/bluemumin/word-frequency-with-hashtag-split"
   ]
  },
  {
   "cell_type": "markdown",
   "metadata": {
    "colab_type": "text",
    "id": "1z4zZOLu-EEK"
   },
   "source": [
    "# 1. 사전 설명 및 패키지 import\n",
    "\n",
    "해당 notebook의 경우, 복합적인 영어 단어를 단순한 단어로 분리를 시키는 과제에 대한 풀이입니다.\n",
    "\n",
    "데이터는 비공개이기 때문에, 예시의 단어들로만 결과를 보여드리며,\n",
    "\n",
    "실제 데이터를 가지고 한 결과에서는 해당 알고리즘만 가지고는 500개의 단어를 가지고\n",
    "\n",
    "약 97%의 정확도를 가졌었습니다.\n",
    "\n",
    "현재는 노트북에서 함수로만 실행이 가능하지만, 나중에는 class로 구현하여서\n",
    "\n",
    "간편하게 불러오고, cmd 창에서 바로 실행이 가능하도록 알고리즘을 구현하는 것을 생각은 하고 있습니다."
   ]
  },
  {
   "cell_type": "code",
   "execution_count": 1,
   "metadata": {
    "ExecuteTime": {
     "end_time": "2020-08-29T07:28:26.950637Z",
     "start_time": "2020-08-29T07:28:25.321003Z"
    },
    "colab": {},
    "colab_type": "code",
    "id": "rMNnMmBf-FMy"
   },
   "outputs": [
    {
     "name": "stderr",
     "output_type": "stream",
     "text": [
      "[nltk_data] Downloading package words to\n",
      "[nltk_data]     C:\\Users\\user\\AppData\\Roaming\\nltk_data...\n",
      "[nltk_data]   Package words is already up-to-date!\n"
     ]
    }
   ],
   "source": [
    "import pandas as pd # 데이터 전처리\n",
    "import numpy as np # 데이터 전처리\n",
    "import random #데이터 전처리\n",
    "\n",
    "from pandas import DataFrame #데이터 전처리\n",
    "from collections import Counter #데이터 전처리\n",
    "\n",
    "import re\n",
    "import nltk\n",
    "nltk.download('words')\n",
    "from nltk.corpus import words, brown"
   ]
  },
  {
   "cell_type": "markdown",
   "metadata": {
    "colab_type": "text",
    "id": "wt718Wl2hT8J"
   },
   "source": [
    "# 2. 핵심 알고리즘\n",
    "\n",
    "인터넷에서 찾은 hashtag splitter의 함수입니다."
   ]
  },
  {
   "cell_type": "code",
   "execution_count": null,
   "metadata": {
    "ExecuteTime": {
     "end_time": "2020-08-29T07:28:27.220638Z",
     "start_time": "2020-08-29T07:28:26.952638Z"
    },
    "colab": {
     "base_uri": "https://localhost:8080/",
     "height": 52
    },
    "colab_type": "code",
    "executionInfo": {
     "elapsed": 1243,
     "status": "ok",
     "timestamp": 1581247351584,
     "user": {
      "displayName": "푸른무민",
      "photoUrl": "https://lh3.googleusercontent.com/a-/AAuE7mBASb0FLXFYVJAQ9Kj0JIphxaHE8yRgV4yH0e50=s64",
      "userId": "16914656486210635361"
     },
     "user_tz": -540
    },
    "id": "TXgplX9N12Ac",
    "outputId": "d2a6df92-6b92-492e-9e46-d6f45d74e881"
   },
   "outputs": [],
   "source": [
    "word_dictionary = list(set(words.words()))\n",
    "for alphabet in \"bcdefghjklmnopqrstuvwxyz\":\n",
    "    word_dictionary.remove(alphabet)\n",
    "\n",
    "def split_hashtag_to_words_all_possibilities(hashtag):\n",
    "    all_possibilities = []\n",
    "\n",
    "    split_posibility = [hashtag[:i] in word_dictionary for i in reversed(range(len(hashtag)+1))]\n",
    "    possible_split_positions = [i for i, x in enumerate(split_posibility) if x == True]\n",
    "\n",
    "    for split_pos in possible_split_positions:\n",
    "        split_words = []\n",
    "        word_1, word_2 = hashtag[:len(hashtag)-split_pos], hashtag[len(hashtag)-split_pos:]\n",
    "\n",
    "        if word_2 in word_dictionary:\n",
    "            split_words.append(word_1)\n",
    "            split_words.append(word_2)\n",
    "            all_possibilities.append(split_words)\n",
    "\n",
    "            another_round = split_hashtag_to_words_all_possibilities(word_2)\n",
    "\n",
    "            if len(another_round) > 0:\n",
    "                all_possibilities = all_possibilities + [[a1] + a2 for a1, a2, in zip([word_1]*len(another_round), another_round)]\n",
    "        else:\n",
    "            another_round = split_hashtag_to_words_all_possibilities(word_2)\n",
    "\n",
    "            if len(another_round) > 0:\n",
    "                all_possibilities = all_possibilities + [[a1] + a2 for a1, a2, in zip([word_1]*len(another_round), another_round)]\n",
    "                \n",
    "    return all_possibilities"
   ]
  },
  {
   "cell_type": "markdown",
   "metadata": {},
   "source": [
    "# 3. 단어 패턴 구분\n",
    "\n",
    "하지만 이를 이대로 사용하기에는 무리 였던 점이,\n",
    "\n",
    "해당 함수는 모든 경우의 수를 반환해주기 때문에, 매번 사용자가 확인도 해줘야되고 만약에 단어의 갯수가 엄청나게 많다면\n",
    "\n",
    "이를 제대로 활용하지 못하게 됩니다."
   ]
  },
  {
   "cell_type": "code",
   "execution_count": 3,
   "metadata": {
    "ExecuteTime": {
     "end_time": "2020-08-29T07:28:27.236637Z",
     "start_time": "2020-08-29T07:28:27.222638Z"
    },
    "colab": {
     "base_uri": "https://localhost:8080/",
     "height": 52
    },
    "colab_type": "code",
    "executionInfo": {
     "elapsed": 1243,
     "status": "ok",
     "timestamp": 1581247351584,
     "user": {
      "displayName": "푸른무민",
      "photoUrl": "https://lh3.googleusercontent.com/a-/AAuE7mBASb0FLXFYVJAQ9Kj0JIphxaHE8yRgV4yH0e50=s64",
      "userId": "16914656486210635361"
     },
     "user_tz": -540
    },
    "id": "TXgplX9N12Ac",
    "outputId": "d2a6df92-6b92-492e-9e46-d6f45d74e881"
   },
   "outputs": [],
   "source": [
    "def print_3(original):\n",
    "    word_space=[]\n",
    "    for i in original:\n",
    "        if len(i)<=3:\n",
    "            word_space.append(i)\n",
    "    return word_space"
   ]
  },
  {
   "cell_type": "markdown",
   "metadata": {},
   "source": [
    "그렇기 때문에, 최적의 경우의 수를 찾는 것을 생각하였고,\n",
    "\n",
    "가장 좋은 경우는 단어가 최대 3개로 나누어지고, 마지막 글자에 따라서 패턴만 조정하는 방식을 선택하였습니다."
   ]
  },
  {
   "cell_type": "code",
   "execution_count": 4,
   "metadata": {
    "ExecuteTime": {
     "end_time": "2020-08-29T07:28:27.267283Z",
     "start_time": "2020-08-29T07:28:27.238639Z"
    },
    "colab": {
     "base_uri": "https://localhost:8080/",
     "height": 52
    },
    "colab_type": "code",
    "executionInfo": {
     "elapsed": 1243,
     "status": "ok",
     "timestamp": 1581247351584,
     "user": {
      "displayName": "푸른무민",
      "photoUrl": "https://lh3.googleusercontent.com/a-/AAuE7mBASb0FLXFYVJAQ9Kj0JIphxaHE8yRgV4yH0e50=s64",
      "userId": "16914656486210635361"
     },
     "user_tz": -540
    },
    "id": "TXgplX9N12Ac",
    "outputId": "d2a6df92-6b92-492e-9e46-d6f45d74e881"
   },
   "outputs": [],
   "source": [
    "def print_er(original_word):\n",
    "    word_space2=[]\n",
    "    for j in original_word:\n",
    "        if (len(j)==3) & ( len(j[-1])<=3 ):\n",
    "            temp=[]\n",
    "            temp.append( j[0] )\n",
    "            temp.append( j[1]+j[2])\n",
    "            word_space2.append(temp)\n",
    "        else:\n",
    "            word_space2.append(j)\n",
    "    word_space=[]\n",
    "    for i in word_space2:\n",
    "        if 'er' in i:\n",
    "            pass\n",
    "        else:\n",
    "            word_space.append(i)\n",
    "    return [list(t) for t in set(tuple(element) for element in word_space)]\n",
    "\n",
    "def print_ing(original_word):\n",
    "    q=p = re.compile('ing$')\n",
    "    word_space2=[]\n",
    "    for j in original_word:\n",
    "        if (len(j)==3) & ( len(j[-1])<=4 ):\n",
    "            temp=[]\n",
    "            temp.append( j[0] )\n",
    "            temp.append( j[1]+j[2])\n",
    "            word_space2.append(temp)\n",
    "        elif (len(j)==3) & ( q.findall(j[-2])==['ing'] ):\n",
    "            temp=[]\n",
    "            temp.append( j[0]+j[1] )\n",
    "            temp.append( j[2])\n",
    "            word_space2.append(temp)\n",
    "        else:\n",
    "            word_space2.append(j)\n",
    "    word_space=[]\n",
    "    for i in word_space2:\n",
    "        if 'ing' in i:\n",
    "            pass\n",
    "        else:\n",
    "            word_space.append(i)\n",
    "    return [list(t) for t in set(tuple(element) for element in word_space)]\n",
    "\n",
    "def print_ed(original_word):\n",
    "    word_space2=[]\n",
    "    for j in original_word:\n",
    "        if (len(j)==3) & ( len(j[-1])<=3 ):\n",
    "            temp=[]\n",
    "            temp.append( j[0] )\n",
    "            temp.append( j[1]+j[2])\n",
    "            word_space2.append(temp)\n",
    "        else:\n",
    "            word_space2.append(j)\n",
    "    word_space=[]\n",
    "    for i in word_space2:\n",
    "        if 'ed' in i:\n",
    "            pass\n",
    "        else:\n",
    "            word_space.append(i)\n",
    "    return [list(t) for t in set(tuple(element) for element in word_space)]"
   ]
  },
  {
   "cell_type": "markdown",
   "metadata": {},
   "source": [
    "최대 3개만 선택하게 한 이후에는, er, ing, ed로 끝나는 단어에 대한 구분을 추가하였고"
   ]
  },
  {
   "cell_type": "code",
   "execution_count": null,
   "metadata": {
    "ExecuteTime": {
     "end_time": "2020-08-29T07:28:27.282404Z",
     "start_time": "2020-08-29T07:28:27.268323Z"
    },
    "colab": {
     "base_uri": "https://localhost:8080/",
     "height": 52
    },
    "colab_type": "code",
    "executionInfo": {
     "elapsed": 1243,
     "status": "ok",
     "timestamp": 1581247351584,
     "user": {
      "displayName": "푸른무민",
      "photoUrl": "https://lh3.googleusercontent.com/a-/AAuE7mBASb0FLXFYVJAQ9Kj0JIphxaHE8yRgV4yH0e50=s64",
      "userId": "16914656486210635361"
     },
     "user_tz": -540
    },
    "id": "TXgplX9N12Ac",
    "outputId": "d2a6df92-6b92-492e-9e46-d6f45d74e881"
   },
   "outputs": [],
   "source": [
    "def print_man(original_word):\n",
    "    raw=''.join(original_word[0])\n",
    "    original_word.append( [ raw[:-3],raw[-3:] ]  )\n",
    "\n",
    "    return [list(t) for t in set(tuple(element) for element in original_word)]\n",
    "\n",
    "def print_wm(original_word):\n",
    "    raw=''.join(original_word[0])\n",
    "    original_word.append( [ raw[:-5],raw[-5:] ]  )\n",
    "\n",
    "    return [list(t) for t in set(tuple(element) for element in original_word)]"
   ]
  },
  {
   "cell_type": "markdown",
   "metadata": {},
   "source": [
    "나중에는 man, woman이라는 단어로 끝나는 경우에 대한 구분도 추가하였습니다."
   ]
  },
  {
   "cell_type": "markdown",
   "metadata": {
    "ExecuteTime": {
     "end_time": "2020-08-23T18:04:26.772999Z",
     "start_time": "2020-08-23T18:04:26.480004Z"
    },
    "colab": {
     "base_uri": "https://localhost:8080/",
     "height": 52
    },
    "colab_type": "code",
    "executionInfo": {
     "elapsed": 1243,
     "status": "ok",
     "timestamp": 1581247351584,
     "user": {
      "displayName": "푸른무민",
      "photoUrl": "https://lh3.googleusercontent.com/a-/AAuE7mBASb0FLXFYVJAQ9Kj0JIphxaHE8yRgV4yH0e50=s64",
      "userId": "16914656486210635361"
     },
     "user_tz": -540
    },
    "id": "TXgplX9N12Ac",
    "outputId": "d2a6df92-6b92-492e-9e46-d6f45d74e881"
   },
   "source": [
    "# 4. English Word Frequency 활용\n",
    "\n",
    "하지만, 그렇게 하더라도 최적의 경우가 나오지 않는 경우가 있었는데\n",
    "\n",
    "가장 큰 것은 3개의 단어로 구분을 할 경우, 경우의 수가 2가지가 나오는 것이었습니다.\n",
    "\n",
    "예를들어 blueberrycake라는 단어의 경우,\n",
    "\n",
    "blue berry cake, blueberry cake로 나뉠 수가 있는데\n",
    "\n",
    "어떠한 것이 최적의 경우인지 찾는 요소로 https://www.kaggle.com/rtatman/english-word-frequency 의 단어 빈도 데이터를 활용하였습니다."
   ]
  },
  {
   "cell_type": "code",
   "execution_count": null,
   "metadata": {
    "ExecuteTime": {
     "end_time": "2020-08-29T07:28:27.680253Z",
     "start_time": "2020-08-29T07:28:27.283253Z"
    },
    "colab": {
     "base_uri": "https://localhost:8080/",
     "height": 52
    },
    "colab_type": "code",
    "executionInfo": {
     "elapsed": 1243,
     "status": "ok",
     "timestamp": 1581247351584,
     "user": {
      "displayName": "푸른무민",
      "photoUrl": "https://lh3.googleusercontent.com/a-/AAuE7mBASb0FLXFYVJAQ9Kj0JIphxaHE8yRgV4yH0e50=s64",
      "userId": "16914656486210635361"
     },
     "user_tz": -540
    },
    "id": "TXgplX9N12Ac",
    "outputId": "d2a6df92-6b92-492e-9e46-d6f45d74e881"
   },
   "outputs": [],
   "source": [
    "count_v = pd.read_csv(\"unigram_freq.csv\")\n",
    "count_v['type'] = [type(i) for i in count_v['word']]\n",
    "count_v2=count_v[count_v['type']==str]\n",
    "count_v2['len'] = [len(i) for i in count_v2['word']]\n",
    "\n",
    "count_v2=count_v2[count_v2['len']>=2]"
   ]
  },
  {
   "cell_type": "markdown",
   "metadata": {},
   "source": [
    "a, b, c 와 같은 한 글자 단어는 제외하고 사용하며,\n",
    "\n",
    "to, in, by 등과 같은 전치사, 접속사 등의 단어들은 remove_list를 만들어서 제외하는 방식을 사용하였습니다."
   ]
  },
  {
   "cell_type": "code",
   "execution_count": 7,
   "metadata": {
    "ExecuteTime": {
     "end_time": "2020-08-29T07:28:27.696288Z",
     "start_time": "2020-08-29T07:28:27.682254Z"
    },
    "colab": {
     "base_uri": "https://localhost:8080/",
     "height": 52
    },
    "colab_type": "code",
    "executionInfo": {
     "elapsed": 1243,
     "status": "ok",
     "timestamp": 1581247351584,
     "user": {
      "displayName": "푸른무민",
      "photoUrl": "https://lh3.googleusercontent.com/a-/AAuE7mBASb0FLXFYVJAQ9Kj0JIphxaHE8yRgV4yH0e50=s64",
      "userId": "16914656486210635361"
     },
     "user_tz": -540
    },
    "id": "TXgplX9N12Ac",
    "outputId": "d2a6df92-6b92-492e-9e46-d6f45d74e881"
   },
   "outputs": [],
   "source": [
    "remove_list=['to','in','by','go','of','in','on','as','the','and','up']\n",
    "def regulatoin_list(next_word):\n",
    "    word_space=[]\n",
    "    if next_word==[]:\n",
    "        return [next_word]\n",
    "    else:\n",
    "        for list1 in next_word:\n",
    "            word_space2 = [len(i) for i in list1]\n",
    "            if (1 in word_space2) :  #길이가 하나라도 1인 경우\n",
    "                pass\n",
    "            elif (word_space2.count(2)==2) :  # 2개 단어의 길이가 2인 경우는 비정상적이므로 제외\n",
    "                pass\n",
    "            else:\n",
    "                word_space.append(list1)\n",
    "\n",
    "        if len(word_space)>=2:\n",
    "            sum_list=[]\n",
    "            real_list=[]\n",
    "            for splitting in word_space:\n",
    "                if len(splitting)==2:\n",
    "                    if ( (len(splitting[-1])==2) & ( splitting[-1] not in remove_list ) ) | ( ( len(splitting[-2])==2 ) & ( splitting[-2] not in remove_list ) ) :\n",
    "                        pass\n",
    "                    else:\n",
    "                        real_list.append(splitting)\n",
    "                else:\n",
    "                    if ( len(splitting[-1])==2 ) | ( ( len(splitting[-2])==2 ) & ( splitting[-2] not in remove_list ) ) | ( ( len(splitting[-3])==2 ) & ( splitting[-3] not in remove_list ) ) :\n",
    "                        pass\n",
    "                    else:\n",
    "                        real_list.append(splitting)\n",
    "\n",
    "            for j in real_list:\n",
    "                sum1 = 1\n",
    "                for y in range(len(j)):\n",
    "                    try:\n",
    "                        sum1 += count_v[count_v['word']==j[y]].index[0]\n",
    "                    except:\n",
    "                        sum1 += 99999999\n",
    "                sum_list.append(sum1)\n",
    "            return real_list[ sum_list.index(min(sum_list)) ]\n",
    "            \n",
    "        elif len(word_space)==0:\n",
    "            return []\n",
    "\n",
    "        else:\n",
    "            return word_space[0]"
   ]
  },
  {
   "cell_type": "markdown",
   "metadata": {},
   "source": [
    "해당 알고리즘의 핵심은, 이미 단어가 분리가 된 상태에서\n",
    "\n",
    "remove_list에 있는 단어들로는 분리가 되지 않으면서, word_frequecy 데이터의 빈도를 활용하여서\n",
    "\n",
    "최대한 가장 잘 사용이 되는 단어가 최적의 경우의 수가 되도록 분리를 하는 방식을 사용한 것입니다."
   ]
  },
  {
   "cell_type": "markdown",
   "metadata": {
    "ExecuteTime": {
     "end_time": "2020-08-23T18:04:26.772999Z",
     "start_time": "2020-08-23T18:04:26.480004Z"
    },
    "colab": {
     "base_uri": "https://localhost:8080/",
     "height": 52
    },
    "colab_type": "code",
    "executionInfo": {
     "elapsed": 1243,
     "status": "ok",
     "timestamp": 1581247351584,
     "user": {
      "displayName": "푸른무민",
      "photoUrl": "https://lh3.googleusercontent.com/a-/AAuE7mBASb0FLXFYVJAQ9Kj0JIphxaHE8yRgV4yH0e50=s64",
      "userId": "16914656486210635361"
     },
     "user_tz": -540
    },
    "id": "TXgplX9N12Ac",
    "outputId": "d2a6df92-6b92-492e-9e46-d6f45d74e881"
   },
   "source": [
    "# 5. word_frequecy 아이디어 적용\n",
    "\n",
    "해당 함수들을 만든 다음에, 끝에 끝나는 글자들을을 통해서 각각 다른 함수가 적용이 되도록 하였습니다.\n",
    "\n",
    "중간에 내용을 추가하다보니 불필요하게 if, elif 등으로 반복되는 내용이 들어가긴 했지만\n",
    "\n",
    "3일안에 해당 알고리즘을 처리를 하여야 됬기 때문에 구현에만 초점을 두었습니다."
   ]
  },
  {
   "cell_type": "code",
   "execution_count": 8,
   "metadata": {
    "ExecuteTime": {
     "end_time": "2020-08-29T07:28:27.712313Z",
     "start_time": "2020-08-29T07:28:27.698287Z"
    },
    "colab": {
     "base_uri": "https://localhost:8080/",
     "height": 52
    },
    "colab_type": "code",
    "executionInfo": {
     "elapsed": 1243,
     "status": "ok",
     "timestamp": 1581247351584,
     "user": {
      "displayName": "푸른무민",
      "photoUrl": "https://lh3.googleusercontent.com/a-/AAuE7mBASb0FLXFYVJAQ9Kj0JIphxaHE8yRgV4yH0e50=s64",
      "userId": "16914656486210635361"
     },
     "user_tz": -540
    },
    "id": "TXgplX9N12Ac",
    "outputId": "d2a6df92-6b92-492e-9e46-d6f45d74e881"
   },
   "outputs": [],
   "source": [
    "def word_space(j):\n",
    "    p = re.compile('er$')\n",
    "    \n",
    "    if p.findall(j)==['er']:\n",
    "        try:\n",
    "            return regulatoin_list( print_er( print_3( split_hashtag_to_words_all_possibilities(j) ) ) ) \n",
    "        except:\n",
    "            return [j]\n",
    "\n",
    "    elif j.find(\"ing\")>(-1):\n",
    "        try:\n",
    "            return regulatoin_list( print_ing( print_3( split_hashtag_to_words_all_possibilities(j) ) ) )\n",
    "        except:\n",
    "            return [j]\n",
    "\n",
    "    elif j[-5:]==\"woman\":\n",
    "        try:\n",
    "            return regulatoin_list( print_wm( print_3( split_hashtag_to_words_all_possibilities(j) ) ) )\n",
    "        except:\n",
    "            return [j]\n",
    "\n",
    "    elif (j[-3:]==\"man\") &  (j[-5:]!=\"woman\"):\n",
    "        try:\n",
    "            return regulatoin_list( print_man( print_3( split_hashtag_to_words_all_possibilities(j) ) ) )\n",
    "        except:\n",
    "            return [j]\n",
    "    elif j[-2:]==\"ed\" :\n",
    "        try:\n",
    "            return regulatoin_list( print_ed( print_3( split_hashtag_to_words_all_possibilities(j) ) ) )\n",
    "        except:\n",
    "            return [j]\n",
    "    \n",
    "    else:\n",
    "        try:\n",
    "            return regulatoin_list( print_3( split_hashtag_to_words_all_possibilities( j ) ) )\n",
    "        except:\n",
    "            return [j]"
   ]
  },
  {
   "cell_type": "markdown",
   "metadata": {},
   "source": [
    "# 6. 결과 확인"
   ]
  },
  {
   "cell_type": "code",
   "execution_count": 26,
   "metadata": {
    "ExecuteTime": {
     "end_time": "2020-08-29T07:49:40.640255Z",
     "start_time": "2020-08-29T07:49:28.051160Z"
    }
   },
   "outputs": [
    {
     "name": "stdout",
     "output_type": "stream",
     "text": [
      "['snow', 'man']\n",
      "['long', 'winded']\n",
      "['hash', 'tag', 'split']\n",
      "['straw', 'berry']\n",
      "['strawberry', 'cake']\n",
      "['blue', 'berry', 'cake']\n",
      "['water', 'melon', 'sugar']\n",
      "['watermelon', 'sugar', 'salt']\n",
      "[[]]\n"
     ]
    }
   ],
   "source": [
    "print( word_space('snowman') )\n",
    "\n",
    "print( word_space('longwinded') )\n",
    "\n",
    "print( word_space('hashtagsplit') )\n",
    "\n",
    "print( word_space('strawberry') )\n",
    "\n",
    "print( word_space('strawberrycake') )\n",
    "\n",
    "print( word_space('blueberrycake') )\n",
    "\n",
    "print( word_space('watermelonsugar'))\n",
    "\n",
    "print( word_space('watermelonsugarsalt'))\n",
    "\n",
    "print( word_space('themselves'))"
   ]
  },
  {
   "cell_type": "markdown",
   "metadata": {},
   "source": [
    "일단 단어가 들어가면 무조건 분리가 일어나도록 진행이 되었으며,\n",
    "\n",
    "단어 4개 이상으로 분리되는 경우는 어쩔수 없이 최대 3개가 되도록 처리를 하였으며\n",
    "\n",
    "분리가 불가능한, 즉 아예 경우의 수가 없는 경우에는 빈 값이 나오도록 되어있습니다.\n",
    "\n",
    "빈 값이 나오게 한 이유는 해당 단어는 직접 처리를 해야됨을 의미하며, \n",
    "\n",
    "이는 함수 적용시 [[]]가 나오면 원본을 반환하도록 하는 것을 구현하면\n",
    "\n",
    "간단하게 해결이 가능합니다."
   ]
  }
 ],
 "metadata": {
  "hide_input": false,
  "kernelspec": {
   "display_name": "Python 3",
   "language": "python",
   "name": "python3"
  },
  "language_info": {
   "codemirror_mode": {
    "name": "ipython",
    "version": 3
   },
   "file_extension": ".py",
   "mimetype": "text/x-python",
   "name": "python",
   "nbconvert_exporter": "python",
   "pygments_lexer": "ipython3",
   "version": "3.7.6"
  },
  "toc": {
   "base_numbering": 1,
   "nav_menu": {
    "height": "103.991px",
    "width": "201.989px"
   },
   "number_sections": false,
   "sideBar": true,
   "skip_h1_title": false,
   "title_cell": "Table of Contents",
   "title_sidebar": "Contents",
   "toc_cell": false,
   "toc_position": {},
   "toc_section_display": true,
   "toc_window_display": true
  }
 },
 "nbformat": 4,
 "nbformat_minor": 4
}
